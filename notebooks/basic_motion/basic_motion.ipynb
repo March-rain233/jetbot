{
 "cells": [
  {
   "cell_type": "markdown",
   "metadata": {},
   "source": [
    "# 基本移动\n",
    "\n",
    "欢迎来到基于浏览器的Jetbot编程界面  \n",
    "这种类型文档叫“jupyter Notbook”，集合文本，代码和图形显示于一身。  \n",
    "整齐明了，对吧？ 如果你不熟悉‘Jupyter’ ，我建议你点击顶部工具栏的「help」的下拉菜单，这里有很多关于Jupyter的使用参考。  \n",
    " \n",
    "在这个notbook，     \n",
    "我们将会介绍JetBot的基础知识  \n",
    "\n",
    "### 加载Robot类\n",
    "\n",
    "准备开始JetBot为编程前，我们需要导入“``Robot``”类。这个类允许我们轻松控制JetBot的电机！ 这包含在“``jetbot``”*package*(包)中。\n",
    "\n",
    "> 如果你是一名Python新手，一个*package*就是一个包含代码文件的文件夹。     \n",
    "> 这些代码文件称为*modules*（模型）  \n",
    "\n",
    "要加载``Robot``类，请高亮显示下面的单元格，并按下``ctrl + enter``或上面的``play``图标。\n",
    "这操作将执行单元格中包含的代码"
   ]
  },
  {
   "cell_type": "code",
   "execution_count": 1,
   "metadata": {},
   "outputs": [],
   "source": [
    "from jetbot import Robot"
   ]
  },
  {
   "cell_type": "markdown",
   "metadata": {},
   "source": [
    "现在已经加载``Robot``类，我们可以用一下语句初始化这个*instance*（实例）"
   ]
  },
  {
   "cell_type": "code",
   "execution_count": 2,
   "metadata": {},
   "outputs": [],
   "source": [
    "robot = Robot()"
   ]
  },
  {
   "cell_type": "markdown",
   "metadata": {},
   "source": [
    "### 通过编程控制机器人（JetBot）  "
   ]
  },
  {
   "cell_type": "markdown",
   "metadata": {},
   "source": [
    "现在我们已经创建了一个名为“Robot”的``Robot``实例，  \n",
    "我们可以使用这个实例去控制我们的机器人（JetBot），  \n",
    "执行下面的命令可使机器人按最大速度的30%逆时针转动。\n",
    "\n",
    "> 注意：这个命令将会使机器人发生移动，请保证有足够的平面给机器人移动，避免跌落损坏，或者干脆就放在地上。"
   ]
  },
  {
   "cell_type": "code",
   "execution_count": null,
   "metadata": {},
   "outputs": [],
   "source": [
    "robot.left(speed=0.3)"
   ]
  },
  {
   "cell_type": "markdown",
   "metadata": {},
   "source": [
    " 很好，你应该见到机器人逆时针转动了！  \n",
    " \n",
    "> 如果你的机器人没有向左转，这意味着其中一个或者两个电机接线都出现问题。尝试关闭电源。   \n",
    "> 找出不正确转动的电机，交换其正负极的接线。\n",
    "> 提醒：请务必仔细检查接线，线的拔插也需要在切断电源的状态下进行。\n",
    "\n",
    "现在，执行以下``stop``方法，就可以使机器人停止。"
   ]
  },
  {
   "cell_type": "code",
   "execution_count": null,
   "metadata": {},
   "outputs": [],
   "source": [
    "robot.stop()"
   ]
  },
  {
   "cell_type": "markdown",
   "metadata": {},
   "source": [
    "有时可能我们只想在一段时间内移动机器人，为此，我们可以使用Python的``time`` package  \n",
    "  \n",
    "执行以下代码，加载``time``"
   ]
  },
  {
   "cell_type": "code",
   "execution_count": 3,
   "metadata": {},
   "outputs": [],
   "source": [
    "import time"
   ]
  },
  {
   "cell_type": "markdown",
   "metadata": {},
   "source": [
    " 这个package定义了``sleep``函数，它导致代码执行时停止指定的秒数再运行下一个命令。 尝试以下命令的组合，使机器人仅向左转半秒钟。"
   ]
  },
  {
   "cell_type": "code",
   "execution_count": null,
   "metadata": {},
   "outputs": [],
   "source": [
    "robot.left(0.3)\n",
    "time.sleep(0.5)\n",
    "robot.stop()"
   ]
  },
  {
   "cell_type": "markdown",
   "metadata": {},
   "source": [
    " 非常好。你应该见到机器人左转了一会儿然后停了下来。\n",
    "\n",
    "\n",
    "> 想知道在``left``方法中``speed=``发生了什么？Python允许我们通过名称或定义它们的顺序类设置函数参数。\n",
    " \n",
    "这个``robot``类也有``right``，``forward``和``backwards``方法。 尝试创建自己的单元格，参考之前的代码，让机器人以50％的速度向前移动一秒钟。\n",
    "\n",
    "通过鼠标点击侧边的高亮条并按下“b”或按工具栏的“+”图标来创建一个新单元格。 完成后，输入您认为会使机器人以50％的速度向前移动一秒钟的代码再执行即可。"
   ]
  },
  {
   "cell_type": "markdown",
   "metadata": {},
   "source": [
    "### 单独控制电机\n",
    "\n",
    "上面我们看到了如何使用``left``，``right``等命令控制机器人。但是如果我们想要单独设置每个电机速度怎么办？那么，有两种方法可以做到这一点。\n",
    "\n",
    "第一种方法是调用``set_motors``方法。 例如，左转一秒，我们可以将左电机速度设置为30％，将右电机设置为60％，这将实现不同弧度的转向方式，如下所示。"
   ]
  },
  {
   "cell_type": "code",
   "execution_count": 11,
   "metadata": {},
   "outputs": [],
   "source": [
    "robot.set_motors(0.3, 0.6)\n",
    "time.sleep(1.0)\n",
    "robot.stop()"
   ]
  },
  {
   "cell_type": "markdown",
   "metadata": {},
   "source": [
    "\n",
    "非常好！你应该见到机器人向左转。但实际上我们可以使用另一种方式来完成同样的事情。\n",
    "\n",
    "在``Robot``类中还有两个名为``left_motor``和``right_motor``的属性，分别表示左电机和右电机的速度值。\n",
    "这些属性是``Motor``类实例中的，每一个实例都包含一个``value``值。当这个``value``发生了变化就会触发``events``，重新分配电机的速度值。\n",
    "\n",
    "所以在这个电机类中，我们附加的一个函数，只要值发生变化就会更新电机命令。\n",
    " \n",
    "因此，为了完成我们上面所做的完全相同的事情，我们可以执行以下操作。"
   ]
  },
  {
   "cell_type": "code",
   "execution_count": null,
   "metadata": {},
   "outputs": [],
   "source": [
    "robot.left_motor.value = 0.3\n",
    "robot.right_motor.value = 0.6\n",
    "time.sleep(1.0)\n",
    "robot.left_motor.value = 0.0\n",
    "robot.right_motor.value = 0.0"
   ]
  },
  {
   "cell_type": "markdown",
   "metadata": {},
   "source": [
    "您应该看到机器人以相同的方式移动！"
   ]
  },
  {
   "cell_type": "markdown",
   "metadata": {},
   "source": [
    "### 连接到traitlets控制电机"
   ]
  },
  {
   "cell_type": "markdown",
   "metadata": {},
   "source": [
    "一个非常酷的功能是，在Jupyter Notbooks可以让我们在这个页面上制作图形小按钮，而traitlets可以连接这些小部件进行控制操作。这样，我们就可以通过浏览器按按钮的方式去控制我们的小车。\n",
    "\n",
    "为了说明如何编写程序，我们先创建并显示两个用于控制电机的滑块。\n"
   ]
  },
  {
   "cell_type": "code",
   "execution_count": 4,
   "metadata": {},
   "outputs": [
    {
     "data": {
      "application/vnd.jupyter.widget-view+json": {
       "model_id": "0b2fcfd1206e49e384e92bddc9034343",
       "version_major": 2,
       "version_minor": 0
      },
      "text/plain": [
       "HBox(children=(FloatSlider(value=0.0, description='left', max=1.0, min=-1.0, orientation='vertical', step=0.01…"
      ]
     },
     "metadata": {},
     "output_type": "display_data"
    }
   ],
   "source": [
    "import ipywidgets.widgets as widgets\n",
    "from IPython.display import display\n",
    "\n",
    "# create two sliders with range [-1.0, 1.0]\n",
    "left_slider = widgets.FloatSlider(description='left', min=-1.0, max=1.0, step=0.01, orientation='vertical')\n",
    "right_slider = widgets.FloatSlider(description='right', min=-1.0, max=1.0, step=0.01, orientation='vertical')\n",
    "\n",
    "# create a horizontal box container to place the sliders next to eachother\n",
    "slider_container = widgets.HBox([left_slider, right_slider])\n",
    "\n",
    "# display the container in this cell's output\n",
    "display(slider_container)"
   ]
  },
  {
   "cell_type": "markdown",
   "metadata": {},
   "source": [
    "   你应该看见两个``垂直``的滑块显示在上面\n",
    "\n",
    "> 技巧提示：在Jupyter Lab，其实你可以把单元格弹出到其他窗口，例如这两个滑块。虽然不在同一窗口，但它仍然连接着这个notbook。具体操作是，鼠标移动到单元格（例如：滑块）上右键，选择「Creat new view for output」（为输出创建新窗口），然后拖动窗口到你满意的地方。\n",
    "\n",
    "尝试单击并上下拖动滑块，会见到数值的变化。 请注意，当前我们移动滑块时JetBot的电机是没有任何反应的，那是因为我们还没有将它们连接到电机上！ 下面我们将通过使用traitlets包中的``link``函数来实现。"
   ]
  },
  {
   "cell_type": "code",
   "execution_count": 5,
   "metadata": {},
   "outputs": [],
   "source": [
    "import traitlets\n",
    "\n",
    "left_link = traitlets.link((left_slider, 'value'), (robot.left_motor, 'value'))\n",
    "right_link = traitlets.link((right_slider, 'value'), (robot.right_motor, 'value'))"
   ]
  },
  {
   "cell_type": "markdown",
   "metadata": {},
   "source": [
    "现在尝试拖动滑块（要先慢慢地拖动），您应该看到相应的电机在转动！\n",
    "\n",
    "我们上面创建的``link``函数实际上创建了一个双向链接！ 那意味着，\n",
    "如果我们在其他地方设置电机值，滑块将更新！ 尝试执行下面的代码块"
   ]
  },
  {
   "cell_type": "code",
   "execution_count": 18,
   "metadata": {},
   "outputs": [],
   "source": [
    "robot.forward(0.3)\n",
    "time.sleep(2.0)\n",
    "robot.stop()"
   ]
  },
  {
   "cell_type": "markdown",
   "metadata": {},
   "source": [
    "执行上面代码你应该看见滑块也发生了改变，响应了电机的速度值。如果我们要断开此连接，我们可以调用``unlink``方法逐一断开连接。\n",
    "\n"
   ]
  },
  {
   "cell_type": "code",
   "execution_count": 6,
   "metadata": {},
   "outputs": [],
   "source": [
    "left_link.unlink()\n",
    "right_link.unlink()"
   ]
  },
  {
   "cell_type": "markdown",
   "metadata": {},
   "source": [
    "但是如果我们不想要一个双向的连接，比如说我们只想用滑块来显示电机的速度值，而不想用来控制，那么要实现这种功能，我们就可以使用``dlink``函数，左边是来源，右边是目标，（数据来源于电机，然后要显示在目标上）。"
   ]
  },
  {
   "cell_type": "code",
   "execution_count": 17,
   "metadata": {},
   "outputs": [],
   "source": [
    "left_link = traitlets.dlink((robot.left_motor, 'value'), (left_slider, 'value'))\n",
    "right_link = traitlets.dlink((robot.right_motor, 'value'), (right_slider, 'value'))"
   ]
  },
  {
   "cell_type": "markdown",
   "metadata": {},
   "source": [
    "现在你可以上下移动滑块，你应该看到机器人的电机是没有一点反应。但当我们设置电机的速度值并执行的时候，滑块将会作出响应的数值更新。"
   ]
  },
  {
   "cell_type": "markdown",
   "metadata": {},
   "source": [
    "### 将函数添加到事件"
   ]
  },
  {
   "cell_type": "markdown",
   "metadata": {},
   "source": [
    "另一种使用traitlets的方法是把函数附加到事件中(例如 ``forward``) 。只要对对象发生改变，就会调用函数，并将传递改变了的一些信息，例如``old`` 值和``new``值。  \n",
    "\n",
    "先让我们创建一些用来控制机器人的按钮显示在notbook上。"
   ]
  },
  {
   "cell_type": "code",
   "execution_count": 19,
   "metadata": {},
   "outputs": [
    {
     "data": {
      "application/vnd.jupyter.widget-view+json": {
       "model_id": "6297c7f4640d4b97b07dfe6667ac64af",
       "version_major": 2,
       "version_minor": 0
      },
      "text/plain": [
       "VBox(children=(Button(description='forward', layout=Layout(align_self='center', height='80px', width='100px'),…"
      ]
     },
     "metadata": {},
     "output_type": "display_data"
    }
   ],
   "source": [
    "# create buttons\n",
    "button_layout = widgets.Layout(width='100px', height='80px', align_self='center')\n",
    "stop_button = widgets.Button(description='stop', button_style='danger', layout=button_layout)\n",
    "forward_button = widgets.Button(description='forward', layout=button_layout)\n",
    "backward_button = widgets.Button(description='backward', layout=button_layout)\n",
    "left_button = widgets.Button(description='left', layout=button_layout)\n",
    "right_button = widgets.Button(description='right', layout=button_layout)\n",
    "\n",
    "# display buttons\n",
    "middle_box = widgets.HBox([left_button, stop_button, right_button], layout=widgets.Layout(align_self='center'))\n",
    "controls_box = widgets.VBox([forward_button, middle_box, backward_button])\n",
    "display(controls_box)"
   ]
  },
  {
   "cell_type": "markdown",
   "metadata": {},
   "source": [
    "你应该看到上面显示的一组机器人控制按钮，但现在你点击按钮并不会做任何事。要做到控制，我们需要创建一些函数附加到按钮``on_click``事件的中。"
   ]
  },
  {
   "cell_type": "code",
   "execution_count": 7,
   "metadata": {},
   "outputs": [],
   "source": [
    "def stop(change):\n",
    "    robot.stop()\n",
    "    \n",
    "def step_forward(change):\n",
    "    robot.forward(0.4)\n",
    "    time.sleep(0.5)\n",
    "    robot.stop()\n",
    "\n",
    "def step_backward(change):\n",
    "    robot.backward(0.4)\n",
    "    time.sleep(0.5)\n",
    "    robot.stop()\n",
    "\n",
    "def step_left(change):\n",
    "    robot.left(0.3)\n",
    "    time.sleep(0.5)\n",
    "    robot.stop()\n",
    "\n",
    "def step_right(change):\n",
    "    robot.right(0.3)\n",
    "    time.sleep(0.5)\n",
    "    robot.stop()"
   ]
  },
  {
   "cell_type": "markdown",
   "metadata": {},
   "source": [
    "现在我们已经定义了那些函数，让我们把这些函数附加到每一个按钮的``on_click``事件"
   ]
  },
  {
   "cell_type": "code",
   "execution_count": 21,
   "metadata": {},
   "outputs": [],
   "source": [
    "# link buttons to actions\n",
    "stop_button.on_click(stop)\n",
    "forward_button.on_click(step_forward)\n",
    "backward_button.on_click(step_backward)\n",
    "left_button.on_click(step_left)\n",
    "right_button.on_click(step_right)"
   ]
  },
  {
   "cell_type": "markdown",
   "metadata": {},
   "source": [
    "执行以上代码，现在当你点击每一个按钮，你应该看到机器都会移动"
   ]
  },
  {
   "cell_type": "markdown",
   "metadata": {},
   "source": [
    "### Heartbeat Killswitch\n",
    "这里我们显示怎么去使用'heartbeat' package 来停止机器的的移动。这是检测机器人与浏览器的连接是否还存在的简单方法。可以通过下面显示的滑块调整心跳周期（以秒为单位），如果两次心跳之内不能在浏览器之间往返通信的，那么心跳的'`status`' （状态）属性值将会设置为``dead``，一旦连接恢复连接，``status``属性将设置为``alive``。"
   ]
  },
  {
   "cell_type": "code",
   "execution_count": 8,
   "metadata": {},
   "outputs": [
    {
     "data": {
      "application/vnd.jupyter.widget-view+json": {
       "model_id": "eacae81d8b334415bcf5d4ef33d01a58",
       "version_major": 2,
       "version_minor": 0
      },
      "text/plain": [
       "FloatSlider(value=0.5, description='period', max=0.5, min=0.001, step=0.01)"
      ]
     },
     "metadata": {},
     "output_type": "display_data"
    },
    {
     "data": {
      "application/vnd.jupyter.widget-view+json": {
       "model_id": "9768966b9fa8446a90db5589d121a991",
       "version_major": 2,
       "version_minor": 0
      },
      "text/plain": [
       "FloatText(value=1559110736.0086615)"
      ]
     },
     "metadata": {},
     "output_type": "display_data"
    }
   ],
   "source": [
    "from jetbot import Heartbeat\n",
    "\n",
    "heartbeat = Heartbeat()\n",
    "\n",
    "# this function will be called when heartbeat 'alive' status changes\n",
    "def handle_heartbeat_status(change):\n",
    "    if change['new'] == Heartbeat.Status.dead:\n",
    "        robot.stop()\n",
    "        \n",
    "heartbeat.observe(handle_heartbeat_status, names='status')\n",
    "\n",
    "period_slider = widgets.FloatSlider(description='period', min=0.001, max=0.5, step=0.01, value=0.5)\n",
    "traitlets.dlink((period_slider, 'value'), (heartbeat, 'period'))\n",
    "\n",
    "display(period_slider, heartbeat.pulseout)"
   ]
  },
  {
   "cell_type": "markdown",
   "metadata": {},
   "source": [
    "尝试执行以下这段代码去启动电机，然后降低滑块去看看发生了什么情况。你也可以尝试关闭你的机器人或者电脑。"
   ]
  },
  {
   "cell_type": "code",
   "execution_count": 9,
   "metadata": {},
   "outputs": [],
   "source": [
    "robot.left(0.2) \n",
    "\n",
    "# now lower the `period` slider above until the network heartbeat can't be satisfied"
   ]
  },
  {
   "cell_type": "markdown",
   "metadata": {},
   "source": [
    "### 结论\n",
    "\n",
    "这个就是一个notbook的例子，希望你有信心能完成对你的机器人进行编程。"
   ]
  }
 ],
 "metadata": {
  "kernelspec": {
   "display_name": "Python 3",
   "language": "python",
   "name": "python3"
  },
  "language_info": {
   "codemirror_mode": {
    "name": "ipython",
    "version": 3
   },
   "file_extension": ".py",
   "mimetype": "text/x-python",
   "name": "python",
   "nbconvert_exporter": "python",
   "pygments_lexer": "ipython3",
   "version": "3.7.3"
  }
 },
 "nbformat": 4,
 "nbformat_minor": 2
}
